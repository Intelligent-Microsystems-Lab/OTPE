{
 "cells": [
  {
   "cell_type": "code",
   "execution_count": 1,
   "metadata": {},
   "outputs": [],
   "source": [
    "import pickle\n",
    "\n",
    "import os\n",
    "os.environ['CUDA_VISIBLE_DEVICES'] = '3'\n",
    "os.environ['TF_CUDNN_DETERMINISTIC']='1'\n",
    "import jax\n",
    "import jax.numpy as jnp\n",
    "\n",
    "import optax\n",
    "from OTPE import OSTL, OTTT, OTPE, Approx_OTPE\n",
    "\n",
    "from jax.tree_util import Partial, tree_map, tree_leaves, tree_structure, tree_unflatten\n",
    "import spiking_learning as sl\n",
    "\n",
    "import randman_dataset as rd\n",
    "import numpy as np\n",
    "from utils import gen_test_data, cos_sim_train_func, online_sim_train_func, custom_snn, bp_snn"
   ]
  },
  {
   "cell_type": "code",
   "execution_count": 2,
   "metadata": {},
   "outputs": [],
   "source": [
    "output_size = 10\n",
    "nlayers = 3\n",
    "dim = 3\n",
    "seq_len = 50\n",
    "lr = \"001\"\n",
    "manifold_seed_val = 0\n",
    "init_seed_val = 3\n",
    "manifold_seed = jax.random.PRNGKey(manifold_seed_val)\n",
    "init_seed = jax.random.split(jax.random.PRNGKey(init_seed_val))[0]\n",
    "dtype = jnp.float32#jnp.bfloat16\n",
    "slope = 10\n",
    "tau = dtype(2.)\n",
    "batch_sz = 128\n",
    "spike_fn = sl.fs(slope)\n",
    "n_iter = 5000 # 2000\n",
    "layer_name = 256\n",
    "update_time = 'offline'\n",
    "timing = 'rate'\n",
    "if timing=='time':\n",
    "    t_name = 'time'\n",
    "    t = True\n",
    "elif timing == 'rate':\n",
    "    t_name = 'rate'\n",
    "    t = False\n",
    "if layer_name == 128:\n",
    "    layer_sz = lambda i: 128\n",
    "elif layer_name == 512:\n",
    "    layer_sz = lambda i: 512\n",
    "elif layer_name == 256:\n",
    "    layer_sz = lambda i: 256\n",
    "\n",
    "optimizer = optax.adamax(dtype(0.001))"
   ]
  },
  {
   "cell_type": "code",
   "execution_count": 3,
   "metadata": {},
   "outputs": [],
   "source": [
    "train_data,train_labels = rd.make_spiking_dataset(nb_classes=10, nb_units=50, nb_steps=seq_len, nb_samples=1000, dim_manifold=dim, alpha=1., nb_spikes=1, seed=manifold_seed,seed2=manifold_seed,shuffle=False,dtype=dtype)"
   ]
  },
  {
   "cell_type": "code",
   "execution_count": 4,
   "metadata": {},
   "outputs": [],
   "source": [
    "gen_data = Partial(rd.make_spiking_dataset,nb_classes=10, nb_units=50, nb_steps=seq_len, nb_samples=1000, dim_manifold=dim, alpha=1., nb_spikes=1, seed=manifold_seed,shuffle=True,time_encode=t,dtype=dtype)"
   ]
  },
  {
   "cell_type": "code",
   "execution_count": 5,
   "metadata": {},
   "outputs": [],
   "source": [
    "test_data,test_labels = gen_test_data(gen_data,1,manifold_seed)"
   ]
  },
  {
   "cell_type": "code",
   "execution_count": 6,
   "metadata": {},
   "outputs": [],
   "source": [
    "carry = [OTPE.initialize_carry(dtype=dtype)]*nlayers"
   ]
  },
  {
   "cell_type": "code",
   "execution_count": 7,
   "metadata": {},
   "outputs": [],
   "source": [
    "OTTTmodel = custom_snn(output_sz=output_size, n_layers=nlayers, mod1=OTTT, mod2=OTTT, spike_fn=spike_fn, layer_sz=layer_sz, dtype=dtype)\n",
    "OSTLmodel = custom_snn(output_sz=output_size, n_layers=nlayers, mod1=OSTL, mod2=OSTL, spike_fn=spike_fn, layer_sz=layer_sz, dtype=dtype)\n",
    "OTPEmodel = custom_snn(output_sz=output_size, n_layers=nlayers, mod1=OSTL, mod2=OTPE, spike_fn=spike_fn, layer_sz=layer_sz, dtype=dtype)\n",
    "Approx_OTPEmodel = custom_snn(output_sz=output_size, n_layers=nlayers, mod1=OTTT, mod2=Approx_OTPE, spike_fn=spike_fn, layer_sz=layer_sz, dtype=dtype)\n",
    "carry = [OTPE.initialize_carry(dtype=dtype)]*nlayers\n",
    "params = OTPEmodel.init(init_seed,carry,train_data[0,:batch_sz])\n",
    "carry,s = OTPEmodel.apply(params,carry,train_data[0,:batch_sz])\n",
    "opt_state = optimizer.init(params)\n",
    "orig_params = params"
   ]
  },
  {
   "cell_type": "code",
   "execution_count": 8,
   "metadata": {},
   "outputs": [],
   "source": [
    "test_carry = [OTPE.test_carry()]*nlayers\n",
    "test_carry,_ = OTPEmodel.apply(params,test_carry,train_data[0])"
   ]
  },
  {
   "cell_type": "code",
   "execution_count": 9,
   "metadata": {},
   "outputs": [],
   "source": [
    "bp_model = bp_snn(output_sz=output_size, n_layers=nlayers, spike_fn=spike_fn, layer_sz=layer_sz, dtype=dtype)\n",
    "bp_carry = carry\n",
    "bp_params = bp_model.init(init_seed,bp_carry,train_data[0,:batch_sz])\n",
    "struct = tree_structure(bp_params)\n",
    "bp_params = tree_unflatten(struct,tree_leaves(orig_params))\n",
    "\n",
    "bp_carry,s = bp_model.apply(bp_params,bp_carry,train_data[0,:batch_sz])\n",
    "bp_opt_state = optimizer.init(bp_params)"
   ]
  },
  {
   "cell_type": "code",
   "execution_count": 10,
   "metadata": {},
   "outputs": [],
   "source": [
    "carry = tree_map(lambda x: jnp.zeros_like(x,dtype),carry)\n",
    "test_carry = tree_map(lambda x: jnp.zeros_like(x,dtype),test_carry)"
   ]
  },
  {
   "cell_type": "code",
   "execution_count": 11,
   "metadata": {},
   "outputs": [],
   "source": [
    "key = jax.random.split(init_seed)[0]\n",
    "cos = []\n",
    "cos_per = []\n",
    "val_acc = []\n",
    "train_loss = []\n",
    "all_params = [params]*4\n",
    "all_params.append(bp_params)\n",
    "all_opt = [opt_state]*4\n",
    "all_opt.append(bp_opt_state)\n",
    "carry = tree_map(lambda x: jnp.zeros_like(x,dtype),carry)\n",
    "test_carry = tree_map(lambda x: jnp.zeros_like(x,dtype),test_carry)\n",
    "best_acc = 0\n",
    "best_params = [0]"
   ]
  },
  {
   "cell_type": "code",
   "execution_count": 12,
   "metadata": {},
   "outputs": [],
   "source": [
    "offline_training = jax.jit(Partial(cos_sim_train_func,OTTTmodel,\n",
    "                       Approx_OTPEmodel,\n",
    "                       OSTLmodel,\n",
    "                       OTPEmodel,\n",
    "                       bp_model,\n",
    "                       optimizer,\n",
    "                       carry,\n",
    "                       test_carry,\n",
    "                       test_data,\n",
    "                       test_labels,\n",
    "                       batch_sz,\n",
    "                       gen_data\n",
    "                       ))"
   ]
  },
  {
   "cell_type": "code",
   "execution_count": 13,
   "metadata": {},
   "outputs": [],
   "source": [
    "online_training = jax.jit(Partial(online_sim_train_func,OTTTmodel,\n",
    "                       Approx_OTPEmodel,\n",
    "                       OSTLmodel,\n",
    "                       OTPEmodel,\n",
    "                       optimizer,\n",
    "                       carry,\n",
    "                       test_carry,\n",
    "                       test_data,\n",
    "                       test_labels,\n",
    "                       batch_sz,\n",
    "                       gen_data\n",
    "                       ))"
   ]
  },
  {
   "cell_type": "code",
   "execution_count": 14,
   "metadata": {},
   "outputs": [],
   "source": [
    "# with open('randman_data/models/model_{}layer_{}_{}dim_{}_{}seqlen_{}iter_{}manifold_{}seed_{}_sub_fs_adamax'.format(nlayers,layer_name,dim,update_time,seq_len,0,manifold_seed_val,init_seed_val,t_name),'wb') as file:\n",
    "#             pickle.dump(tree_map(jnp.float32,all_params),file,protocol=pickle.HIGHEST_PROTOCOL)"
   ]
  },
  {
   "cell_type": "code",
   "execution_count": null,
   "metadata": {
    "scrolled": true
   },
   "outputs": [],
   "source": [
    "for epoch in range(n_iter):        \n",
    "    \n",
    "    if update_time == 'offline':\n",
    "\n",
    "        all_loss, all_cosines, all_cosines_per, all_acc, all_params, all_opt, key = offline_training(all_params,all_opt,key)\n",
    "        \n",
    "\n",
    "        cos.append(np.stack(list(tree_map(jnp.float32,all_cosines))))\n",
    "        cos_per.append(np.stack(list((tree_map(jnp.float32,all_cosines_per)))))\n",
    "    \n",
    "    elif update_time == 'online':\n",
    "\n",
    "        all_loss, all_acc, all_params, all_opt, key = online_training(all_params,all_opt,key)\n",
    "\n",
    "\n",
    "    val_acc.append(np.stack(list(tree_map(jnp.float32,all_acc))))\n",
    "\n",
    "    train_loss.append(np.stack(list(tree_map(jnp.float32,all_loss))))\n",
    "\n",
    "    #print(epoch)\n",
    "    #print(val_acc[-1])\n",
    "    #print(cos[-1])\n",
    "    #print(cos_per[-1])\n",
    "    #print(all_cosines_per)\n",
    "\n",
    "    # if (epoch+1)%200 == 0: #200\n",
    "    #     with open('randman_data/models/model_{}layer_{}_{}dim_{}_{}seqlen_{}iter_{}manifold_{}seed_{}_sub_fs_adamax'.format(nlayers,layer_name,dim,update_time,seq_len,epoch+1,manifold_seed_val,init_seed_val,t_name),'wb') as file:\n",
    "    #         pickle.dump(tree_map(jnp.float32,all_params),file,protocol=pickle.HIGHEST_PROTOCOL)"
   ]
  },
  {
   "cell_type": "code",
   "execution_count": null,
   "metadata": {},
   "outputs": [],
   "source": [
    "np.save('randman_data/layer_cosine_similarity/sim_{}layer_{}_{}dim_{}_{}seqlen_{}iter_{}manifold_{}_sub_{}fs_adamax_lr{}_{}seed'.format(nlayers,layer_name,dim,update_time,seq_len,n_iter,manifold_seed_val,t_name,slope,lr,init_seed_val),cos_per)\n",
    "np.save('randman_data/model_cosine_similarity/sim_{}layer_{}_{}dim_{}_{}seqlen_{}iter_{}manifold_{}_sub_{}fs_adamax_lr{}_{}seed'.format(nlayers,layer_name,dim,update_time,seq_len,n_iter,manifold_seed_val,t_name,slope,lr,init_seed_val),cos)\n",
    "np.save('randman_data/accuracy/sim_{}layer_{}_{}dim_{}_{}seqlen_{}iter_{}manifold_{}_sub_{}fs_adamax_lr{}_{}seed'.format(nlayers,layer_name,dim,update_time,seq_len,n_iter,manifold_seed_val,t_name,slope,lr,init_seed_val),val_acc)\n",
    "np.save('randman_data/loss/sim_{}layer_{}_{}dim_{}_{}seqlen_{}iter_{}manifold_{}_sub_{}fs_adamax_lr{}_{}seed'.format(nlayers,layer_name,dim,update_time,seq_len,n_iter,manifold_seed_val,t_name,slope,lr,init_seed_val),train_loss)"
   ]
  }
 ],
 "metadata": {
  "kernelspec": {
   "display_name": "Python 3 (ipykernel)",
   "language": "python",
   "name": "python3"
  },
  "language_info": {
   "codemirror_mode": {
    "name": "ipython",
    "version": 3
   },
   "file_extension": ".py",
   "mimetype": "text/x-python",
   "name": "python",
   "nbconvert_exporter": "python",
   "pygments_lexer": "ipython3",
   "version": "3.11.4"
  }
 },
 "nbformat": 4,
 "nbformat_minor": 4
}
